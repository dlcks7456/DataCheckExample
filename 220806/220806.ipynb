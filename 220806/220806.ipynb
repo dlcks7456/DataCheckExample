{
 "cells": [
  {
   "cell_type": "code",
   "execution_count": 1,
   "id": "17598808",
   "metadata": {},
   "outputs": [],
   "source": [
    "import DataCheck\n",
    "import pandas as pd\n",
    "\n",
    "file_name = '220806.xlsx'\n",
    "\n",
    "raw = pd.read_excel(file_name)\n",
    "dc = DataCheck.Ready(raw)\n",
    "\n",
    "pd.set_option('display.max_columns', None)\n",
    "pd.set_option('display.max_rows', None)"
   ]
  },
  {
   "cell_type": "code",
   "execution_count": 2,
   "id": "f87afd80",
   "metadata": {},
   "outputs": [
    {
     "name": "stdout",
     "output_type": "stream",
     "text": [
      "## SQ1 MISSING CHECK\n",
      "# All base\n",
      "# No error\n",
      "----------\n",
      "\n",
      "\n"
     ]
    }
   ],
   "source": [
    "dc.safreq('SQ1')"
   ]
  },
  {
   "cell_type": "code",
   "execution_count": 3,
   "id": "bbd08bfa",
   "metadata": {},
   "outputs": [
    {
     "name": "stdout",
     "output_type": "stream",
     "text": [
      "## SQ2r1 MISSING CHECK\n",
      "# All base\n",
      "# No error\n",
      "----------\n",
      "\n",
      "## SQ2r1 ANSWER DATA CHECK\n",
      "# Answer only in Range 1 THRU 99\n",
      "# Only value check : No error\n",
      "----------\n",
      "\n",
      "\n"
     ]
    }
   ],
   "source": [
    "dc.safreq('SQ2r1', only=range(1, 99))"
   ]
  },
  {
   "cell_type": "code",
   "execution_count": 4,
   "id": "b3f6473b",
   "metadata": {},
   "outputs": [
    {
     "name": "stdout",
     "output_type": "stream",
     "text": [
      "## SQ2x1 MISSING CHECK\n",
      "# All base\n",
      "# No error\n",
      "----------\n",
      "\n",
      "## SQ2x1 ANSWER DATA CHECK\n",
      "# Answer only in List [2, 3, 4, 5]\n",
      "# Only value check : No error\n",
      "----------\n",
      "\n",
      "\n"
     ]
    }
   ],
   "source": [
    "dc.safreq('SQ2x1', only=[2, 3, 4, 5])"
   ]
  },
  {
   "cell_type": "code",
   "execution_count": 5,
   "id": "8d523b4e",
   "metadata": {},
   "outputs": [
    {
     "name": "stdout",
     "output_type": "stream",
     "text": [
      "age code : 2\n",
      "## Puncing Logic Check\n",
      "# Puching Logic correct\n",
      "----------\n",
      "\n",
      "\n",
      "age code : 3\n",
      "## Puncing Logic Check\n",
      "# Puching Logic correct\n",
      "----------\n",
      "\n",
      "\n",
      "age code : 4\n",
      "## Puncing Logic Check\n",
      "# Puching Logic correct\n",
      "----------\n",
      "\n",
      "\n",
      "age code : 5\n",
      "## Puncing Logic Check\n",
      "# Puching Logic correct\n",
      "----------\n",
      "\n",
      "\n"
     ]
    }
   ],
   "source": [
    "ages = [2,3,4,5]\n",
    "for age in ages :\n",
    "    print(f\"age code : {age}\")\n",
    "    dc.logchk(raw.SQ2r1.between(age*10, age*10+9), raw.SQ2x1==age, ['SQ2r1', 'SQ2x1'])"
   ]
  },
  {
   "cell_type": "code",
   "execution_count": 12,
   "id": "b3de2e72",
   "metadata": {},
   "outputs": [
    {
     "name": "stdout",
     "output_type": "stream",
     "text": [
      "## SQ3x1r1c1 MISSING CHECK\n",
      "# All base\n",
      "# No error\n",
      "----------\n",
      "\n",
      "\n"
     ]
    }
   ],
   "source": [
    "dc.safreq('SQ3x1r1c1')"
   ]
  },
  {
   "cell_type": "code",
   "execution_count": 13,
   "id": "4c48ed5a",
   "metadata": {},
   "outputs": [
    {
     "name": "stdout",
     "output_type": "stream",
     "text": [
      "## SQ3x2r1c1 MISSING CHECK\n",
      "# All base\n",
      "# No error\n",
      "----------\n",
      "\n",
      "\n"
     ]
    }
   ],
   "source": [
    "dc.safreq('SQ3x2r1c1')"
   ]
  },
  {
   "cell_type": "code",
   "execution_count": 14,
   "id": "8329a692",
   "metadata": {},
   "outputs": [
    {
     "name": "stdout",
     "output_type": "stream",
     "text": [
      "## SQ3x3r1c1 MISSING CHECK\n",
      "# All base\n",
      "# No error\n",
      "----------\n",
      "\n",
      "\n"
     ]
    }
   ],
   "source": [
    "dc.safreq('SQ3x3r1c1')"
   ]
  },
  {
   "cell_type": "code",
   "execution_count": 18,
   "id": "ea88c6b1",
   "metadata": {
    "scrolled": true
   },
   "outputs": [
    {
     "data": {
      "text/html": [
       "<div>\n",
       "<style scoped>\n",
       "    .dataframe tbody tr th:only-of-type {\n",
       "        vertical-align: middle;\n",
       "    }\n",
       "\n",
       "    .dataframe tbody tr th {\n",
       "        vertical-align: top;\n",
       "    }\n",
       "\n",
       "    .dataframe thead th {\n",
       "        text-align: right;\n",
       "    }\n",
       "</style>\n",
       "<table border=\"1\" class=\"dataframe\">\n",
       "  <thead>\n",
       "    <tr style=\"text-align: right;\">\n",
       "      <th></th>\n",
       "      <th>SQ3x1r1c1</th>\n",
       "      <th>area_2</th>\n",
       "      <th>area_3</th>\n",
       "    </tr>\n",
       "  </thead>\n",
       "  <tbody>\n",
       "    <tr>\n",
       "      <th>0</th>\n",
       "      <td>1</td>\n",
       "      <td>1</td>\n",
       "      <td>1</td>\n",
       "    </tr>\n",
       "    <tr>\n",
       "      <th>1</th>\n",
       "      <td>3</td>\n",
       "      <td>3</td>\n",
       "      <td>3</td>\n",
       "    </tr>\n",
       "    <tr>\n",
       "      <th>2</th>\n",
       "      <td>2</td>\n",
       "      <td>2</td>\n",
       "      <td>2</td>\n",
       "    </tr>\n",
       "    <tr>\n",
       "      <th>3</th>\n",
       "      <td>5</td>\n",
       "      <td>5</td>\n",
       "      <td>5</td>\n",
       "    </tr>\n",
       "    <tr>\n",
       "      <th>4</th>\n",
       "      <td>9</td>\n",
       "      <td>9</td>\n",
       "      <td>9</td>\n",
       "    </tr>\n",
       "    <tr>\n",
       "      <th>5</th>\n",
       "      <td>4</td>\n",
       "      <td>4</td>\n",
       "      <td>4</td>\n",
       "    </tr>\n",
       "    <tr>\n",
       "      <th>6</th>\n",
       "      <td>9</td>\n",
       "      <td>9</td>\n",
       "      <td>9</td>\n",
       "    </tr>\n",
       "    <tr>\n",
       "      <th>7</th>\n",
       "      <td>12</td>\n",
       "      <td>12</td>\n",
       "      <td>12</td>\n",
       "    </tr>\n",
       "    <tr>\n",
       "      <th>8</th>\n",
       "      <td>3</td>\n",
       "      <td>3</td>\n",
       "      <td>3</td>\n",
       "    </tr>\n",
       "    <tr>\n",
       "      <th>9</th>\n",
       "      <td>10</td>\n",
       "      <td>10</td>\n",
       "      <td>10</td>\n",
       "    </tr>\n",
       "    <tr>\n",
       "      <th>10</th>\n",
       "      <td>1</td>\n",
       "      <td>1</td>\n",
       "      <td>1</td>\n",
       "    </tr>\n",
       "    <tr>\n",
       "      <th>11</th>\n",
       "      <td>9</td>\n",
       "      <td>9</td>\n",
       "      <td>9</td>\n",
       "    </tr>\n",
       "    <tr>\n",
       "      <th>12</th>\n",
       "      <td>1</td>\n",
       "      <td>1</td>\n",
       "      <td>1</td>\n",
       "    </tr>\n",
       "    <tr>\n",
       "      <th>13</th>\n",
       "      <td>3</td>\n",
       "      <td>3</td>\n",
       "      <td>3</td>\n",
       "    </tr>\n",
       "    <tr>\n",
       "      <th>14</th>\n",
       "      <td>7</td>\n",
       "      <td>7</td>\n",
       "      <td>7</td>\n",
       "    </tr>\n",
       "    <tr>\n",
       "      <th>15</th>\n",
       "      <td>5</td>\n",
       "      <td>5</td>\n",
       "      <td>5</td>\n",
       "    </tr>\n",
       "    <tr>\n",
       "      <th>16</th>\n",
       "      <td>1</td>\n",
       "      <td>1</td>\n",
       "      <td>1</td>\n",
       "    </tr>\n",
       "    <tr>\n",
       "      <th>17</th>\n",
       "      <td>16</td>\n",
       "      <td>16</td>\n",
       "      <td>16</td>\n",
       "    </tr>\n",
       "    <tr>\n",
       "      <th>18</th>\n",
       "      <td>9</td>\n",
       "      <td>9</td>\n",
       "      <td>9</td>\n",
       "    </tr>\n",
       "    <tr>\n",
       "      <th>19</th>\n",
       "      <td>2</td>\n",
       "      <td>2</td>\n",
       "      <td>2</td>\n",
       "    </tr>\n",
       "    <tr>\n",
       "      <th>20</th>\n",
       "      <td>2</td>\n",
       "      <td>2</td>\n",
       "      <td>2</td>\n",
       "    </tr>\n",
       "    <tr>\n",
       "      <th>21</th>\n",
       "      <td>1</td>\n",
       "      <td>1</td>\n",
       "      <td>1</td>\n",
       "    </tr>\n",
       "    <tr>\n",
       "      <th>22</th>\n",
       "      <td>9</td>\n",
       "      <td>9</td>\n",
       "      <td>9</td>\n",
       "    </tr>\n",
       "    <tr>\n",
       "      <th>23</th>\n",
       "      <td>1</td>\n",
       "      <td>1</td>\n",
       "      <td>1</td>\n",
       "    </tr>\n",
       "    <tr>\n",
       "      <th>24</th>\n",
       "      <td>15</td>\n",
       "      <td>15</td>\n",
       "      <td>15</td>\n",
       "    </tr>\n",
       "    <tr>\n",
       "      <th>25</th>\n",
       "      <td>9</td>\n",
       "      <td>9</td>\n",
       "      <td>9</td>\n",
       "    </tr>\n",
       "    <tr>\n",
       "      <th>26</th>\n",
       "      <td>9</td>\n",
       "      <td>9</td>\n",
       "      <td>9</td>\n",
       "    </tr>\n",
       "    <tr>\n",
       "      <th>27</th>\n",
       "      <td>9</td>\n",
       "      <td>9</td>\n",
       "      <td>9</td>\n",
       "    </tr>\n",
       "    <tr>\n",
       "      <th>28</th>\n",
       "      <td>2</td>\n",
       "      <td>2</td>\n",
       "      <td>2</td>\n",
       "    </tr>\n",
       "  </tbody>\n",
       "</table>\n",
       "</div>"
      ],
      "text/plain": [
       "    SQ3x1r1c1  area_2  area_3\n",
       "0           1       1       1\n",
       "1           3       3       3\n",
       "2           2       2       2\n",
       "3           5       5       5\n",
       "4           9       9       9\n",
       "5           4       4       4\n",
       "6           9       9       9\n",
       "7          12      12      12\n",
       "8           3       3       3\n",
       "9          10      10      10\n",
       "10          1       1       1\n",
       "11          9       9       9\n",
       "12          1       1       1\n",
       "13          3       3       3\n",
       "14          7       7       7\n",
       "15          5       5       5\n",
       "16          1       1       1\n",
       "17         16      16      16\n",
       "18          9       9       9\n",
       "19          2       2       2\n",
       "20          2       2       2\n",
       "21          1       1       1\n",
       "22          9       9       9\n",
       "23          1       1       1\n",
       "24         15      15      15\n",
       "25          9       9       9\n",
       "26          9       9       9\n",
       "27          9       9       9\n",
       "28          2       2       2"
      ]
     },
     "execution_count": 18,
     "metadata": {},
     "output_type": "execute_result"
    }
   ],
   "source": [
    "#dc.df[['SQ3x1r1c1', 'SQ3x2r1c1', 'SQ3x3r1c1']]\n",
    "dc.df['area_2'] = dc.df['SQ3x2r1c1']//100\n",
    "dc.df['area_3'] = dc.df['SQ3x3r1c1']//10000\n",
    "dc.df[['SQ3x1r1c1', 'area_2', 'area_3']]"
   ]
  },
  {
   "cell_type": "code",
   "execution_count": 19,
   "id": "f17318bc",
   "metadata": {},
   "outputs": [
    {
     "name": "stdout",
     "output_type": "stream",
     "text": [
      "## HQ1 MISSING CHECK\n",
      "# All base\n",
      "# No error\n",
      "----------\n",
      "\n",
      "\n"
     ]
    }
   ],
   "source": [
    "dc.safreq('HQ1')"
   ]
  },
  {
   "cell_type": "code",
   "execution_count": 20,
   "id": "4e686f88",
   "metadata": {},
   "outputs": [
    {
     "data": {
      "text/html": [
       "<div>\n",
       "<style scoped>\n",
       "    .dataframe tbody tr th:only-of-type {\n",
       "        vertical-align: middle;\n",
       "    }\n",
       "\n",
       "    .dataframe tbody tr th {\n",
       "        vertical-align: top;\n",
       "    }\n",
       "\n",
       "    .dataframe thead th {\n",
       "        text-align: right;\n",
       "    }\n",
       "</style>\n",
       "<table border=\"1\" class=\"dataframe\">\n",
       "  <thead>\n",
       "    <tr style=\"text-align: right;\">\n",
       "      <th></th>\n",
       "      <th>SQ3x1r1c1</th>\n",
       "      <th>SQ3x2r1c1</th>\n",
       "      <th>SQ3x3r1c1</th>\n",
       "      <th>HQ1</th>\n",
       "    </tr>\n",
       "  </thead>\n",
       "  <tbody>\n",
       "    <tr>\n",
       "      <th>0</th>\n",
       "      <td>1</td>\n",
       "      <td>106</td>\n",
       "      <td>10602</td>\n",
       "      <td>1</td>\n",
       "    </tr>\n",
       "    <tr>\n",
       "      <th>1</th>\n",
       "      <td>3</td>\n",
       "      <td>307</td>\n",
       "      <td>30717</td>\n",
       "      <td>1</td>\n",
       "    </tr>\n",
       "    <tr>\n",
       "      <th>2</th>\n",
       "      <td>2</td>\n",
       "      <td>203</td>\n",
       "      <td>20302</td>\n",
       "      <td>1</td>\n",
       "    </tr>\n",
       "    <tr>\n",
       "      <th>3</th>\n",
       "      <td>5</td>\n",
       "      <td>504</td>\n",
       "      <td>50448</td>\n",
       "      <td>1</td>\n",
       "    </tr>\n",
       "    <tr>\n",
       "      <th>4</th>\n",
       "      <td>9</td>\n",
       "      <td>902</td>\n",
       "      <td>90225</td>\n",
       "      <td>1</td>\n",
       "    </tr>\n",
       "    <tr>\n",
       "      <th>5</th>\n",
       "      <td>4</td>\n",
       "      <td>402</td>\n",
       "      <td>40219</td>\n",
       "      <td>1</td>\n",
       "    </tr>\n",
       "    <tr>\n",
       "      <th>6</th>\n",
       "      <td>9</td>\n",
       "      <td>911</td>\n",
       "      <td>91120</td>\n",
       "      <td>1</td>\n",
       "    </tr>\n",
       "    <tr>\n",
       "      <th>7</th>\n",
       "      <td>12</td>\n",
       "      <td>1217</td>\n",
       "      <td>121702</td>\n",
       "      <td>2</td>\n",
       "    </tr>\n",
       "    <tr>\n",
       "      <th>8</th>\n",
       "      <td>3</td>\n",
       "      <td>305</td>\n",
       "      <td>30513</td>\n",
       "      <td>1</td>\n",
       "    </tr>\n",
       "    <tr>\n",
       "      <th>9</th>\n",
       "      <td>10</td>\n",
       "      <td>1017</td>\n",
       "      <td>101704</td>\n",
       "      <td>2</td>\n",
       "    </tr>\n",
       "    <tr>\n",
       "      <th>10</th>\n",
       "      <td>1</td>\n",
       "      <td>101</td>\n",
       "      <td>10109</td>\n",
       "      <td>1</td>\n",
       "    </tr>\n",
       "    <tr>\n",
       "      <th>11</th>\n",
       "      <td>9</td>\n",
       "      <td>916</td>\n",
       "      <td>91606</td>\n",
       "      <td>1</td>\n",
       "    </tr>\n",
       "    <tr>\n",
       "      <th>12</th>\n",
       "      <td>1</td>\n",
       "      <td>104</td>\n",
       "      <td>10409</td>\n",
       "      <td>1</td>\n",
       "    </tr>\n",
       "    <tr>\n",
       "      <th>13</th>\n",
       "      <td>3</td>\n",
       "      <td>302</td>\n",
       "      <td>30205</td>\n",
       "      <td>1</td>\n",
       "    </tr>\n",
       "    <tr>\n",
       "      <th>14</th>\n",
       "      <td>7</td>\n",
       "      <td>705</td>\n",
       "      <td>70517</td>\n",
       "      <td>1</td>\n",
       "    </tr>\n",
       "    <tr>\n",
       "      <th>15</th>\n",
       "      <td>5</td>\n",
       "      <td>504</td>\n",
       "      <td>50436</td>\n",
       "      <td>1</td>\n",
       "    </tr>\n",
       "    <tr>\n",
       "      <th>16</th>\n",
       "      <td>1</td>\n",
       "      <td>120</td>\n",
       "      <td>12003</td>\n",
       "      <td>1</td>\n",
       "    </tr>\n",
       "    <tr>\n",
       "      <th>17</th>\n",
       "      <td>16</td>\n",
       "      <td>1612</td>\n",
       "      <td>161206</td>\n",
       "      <td>2</td>\n",
       "    </tr>\n",
       "    <tr>\n",
       "      <th>18</th>\n",
       "      <td>9</td>\n",
       "      <td>902</td>\n",
       "      <td>90225</td>\n",
       "      <td>1</td>\n",
       "    </tr>\n",
       "    <tr>\n",
       "      <th>19</th>\n",
       "      <td>2</td>\n",
       "      <td>202</td>\n",
       "      <td>20207</td>\n",
       "      <td>1</td>\n",
       "    </tr>\n",
       "    <tr>\n",
       "      <th>20</th>\n",
       "      <td>2</td>\n",
       "      <td>203</td>\n",
       "      <td>20301</td>\n",
       "      <td>1</td>\n",
       "    </tr>\n",
       "    <tr>\n",
       "      <th>21</th>\n",
       "      <td>1</td>\n",
       "      <td>115</td>\n",
       "      <td>11503</td>\n",
       "      <td>1</td>\n",
       "    </tr>\n",
       "    <tr>\n",
       "      <th>22</th>\n",
       "      <td>9</td>\n",
       "      <td>903</td>\n",
       "      <td>90311</td>\n",
       "      <td>1</td>\n",
       "    </tr>\n",
       "    <tr>\n",
       "      <th>23</th>\n",
       "      <td>1</td>\n",
       "      <td>118</td>\n",
       "      <td>11812</td>\n",
       "      <td>1</td>\n",
       "    </tr>\n",
       "    <tr>\n",
       "      <th>24</th>\n",
       "      <td>15</td>\n",
       "      <td>1501</td>\n",
       "      <td>150104</td>\n",
       "      <td>2</td>\n",
       "    </tr>\n",
       "    <tr>\n",
       "      <th>25</th>\n",
       "      <td>9</td>\n",
       "      <td>914</td>\n",
       "      <td>91401</td>\n",
       "      <td>1</td>\n",
       "    </tr>\n",
       "    <tr>\n",
       "      <th>26</th>\n",
       "      <td>9</td>\n",
       "      <td>902</td>\n",
       "      <td>90231</td>\n",
       "      <td>1</td>\n",
       "    </tr>\n",
       "    <tr>\n",
       "      <th>27</th>\n",
       "      <td>9</td>\n",
       "      <td>925</td>\n",
       "      <td>92503</td>\n",
       "      <td>1</td>\n",
       "    </tr>\n",
       "    <tr>\n",
       "      <th>28</th>\n",
       "      <td>2</td>\n",
       "      <td>205</td>\n",
       "      <td>20501</td>\n",
       "      <td>1</td>\n",
       "    </tr>\n",
       "  </tbody>\n",
       "</table>\n",
       "</div>"
      ],
      "text/plain": [
       "    SQ3x1r1c1  SQ3x2r1c1  SQ3x3r1c1  HQ1\n",
       "0           1        106      10602    1\n",
       "1           3        307      30717    1\n",
       "2           2        203      20302    1\n",
       "3           5        504      50448    1\n",
       "4           9        902      90225    1\n",
       "5           4        402      40219    1\n",
       "6           9        911      91120    1\n",
       "7          12       1217     121702    2\n",
       "8           3        305      30513    1\n",
       "9          10       1017     101704    2\n",
       "10          1        101      10109    1\n",
       "11          9        916      91606    1\n",
       "12          1        104      10409    1\n",
       "13          3        302      30205    1\n",
       "14          7        705      70517    1\n",
       "15          5        504      50436    1\n",
       "16          1        120      12003    1\n",
       "17         16       1612     161206    2\n",
       "18          9        902      90225    1\n",
       "19          2        202      20207    1\n",
       "20          2        203      20301    1\n",
       "21          1        115      11503    1\n",
       "22          9        903      90311    1\n",
       "23          1        118      11812    1\n",
       "24         15       1501     150104    2\n",
       "25          9        914      91401    1\n",
       "26          9        902      90231    1\n",
       "27          9        925      92503    1\n",
       "28          2        205      20501    1"
      ]
     },
     "execution_count": 20,
     "metadata": {},
     "output_type": "execute_result"
    }
   ],
   "source": [
    "dc.df[['SQ3x1r1c1', 'SQ3x2r1c1', 'SQ3x3r1c1', 'HQ1']]"
   ]
  },
  {
   "cell_type": "code",
   "execution_count": 21,
   "id": "013781c8",
   "metadata": {
    "scrolled": true
   },
   "outputs": [
    {
     "data": {
      "text/html": [
       "<div>\n",
       "<style scoped>\n",
       "    .dataframe tbody tr th:only-of-type {\n",
       "        vertical-align: middle;\n",
       "    }\n",
       "\n",
       "    .dataframe tbody tr th {\n",
       "        vertical-align: top;\n",
       "    }\n",
       "\n",
       "    .dataframe thead th {\n",
       "        text-align: right;\n",
       "    }\n",
       "</style>\n",
       "<table border=\"1\" class=\"dataframe\">\n",
       "  <thead>\n",
       "    <tr style=\"text-align: right;\">\n",
       "      <th></th>\n",
       "      <th>a</th>\n",
       "      <th>a_code</th>\n",
       "      <th>b</th>\n",
       "      <th>b_code</th>\n",
       "      <th>c</th>\n",
       "      <th>c_code</th>\n",
       "      <th>HQ1</th>\n",
       "    </tr>\n",
       "  </thead>\n",
       "  <tbody>\n",
       "    <tr>\n",
       "      <th>0</th>\n",
       "      <td>서울특별시</td>\n",
       "      <td>1</td>\n",
       "      <td>강남구</td>\n",
       "      <td>101.0</td>\n",
       "      <td>개포동</td>\n",
       "      <td>10101</td>\n",
       "      <td>1</td>\n",
       "    </tr>\n",
       "    <tr>\n",
       "      <th>1</th>\n",
       "      <td>서울특별시</td>\n",
       "      <td>1</td>\n",
       "      <td>강남구</td>\n",
       "      <td>101.0</td>\n",
       "      <td>논현동</td>\n",
       "      <td>10102</td>\n",
       "      <td>1</td>\n",
       "    </tr>\n",
       "    <tr>\n",
       "      <th>2</th>\n",
       "      <td>서울특별시</td>\n",
       "      <td>1</td>\n",
       "      <td>강남구</td>\n",
       "      <td>101.0</td>\n",
       "      <td>대치동</td>\n",
       "      <td>10103</td>\n",
       "      <td>1</td>\n",
       "    </tr>\n",
       "    <tr>\n",
       "      <th>3</th>\n",
       "      <td>서울특별시</td>\n",
       "      <td>1</td>\n",
       "      <td>강남구</td>\n",
       "      <td>101.0</td>\n",
       "      <td>도곡동</td>\n",
       "      <td>10104</td>\n",
       "      <td>1</td>\n",
       "    </tr>\n",
       "    <tr>\n",
       "      <th>4</th>\n",
       "      <td>서울특별시</td>\n",
       "      <td>1</td>\n",
       "      <td>강남구</td>\n",
       "      <td>101.0</td>\n",
       "      <td>삼성동</td>\n",
       "      <td>10105</td>\n",
       "      <td>1</td>\n",
       "    </tr>\n",
       "  </tbody>\n",
       "</table>\n",
       "</div>"
      ],
      "text/plain": [
       "       a  a_code    b  b_code    c  c_code  HQ1\n",
       "0  서울특별시       1  강남구   101.0  개포동   10101    1\n",
       "1  서울특별시       1  강남구   101.0  논현동   10102    1\n",
       "2  서울특별시       1  강남구   101.0  대치동   10103    1\n",
       "3  서울특별시       1  강남구   101.0  도곡동   10104    1\n",
       "4  서울특별시       1  강남구   101.0  삼성동   10105    1"
      ]
     },
     "execution_count": 21,
     "metadata": {},
     "output_type": "execute_result"
    }
   ],
   "source": [
    "area = pd.read_excel('area.xlsx')\n",
    "area.head()"
   ]
  },
  {
   "cell_type": "code",
   "execution_count": 22,
   "id": "6e010a6f",
   "metadata": {},
   "outputs": [],
   "source": [
    "for idx in list(raw.index) :\n",
    "    answer = raw.loc[idx, 'SQ3x3r1c1']\n",
    "    hq1 = int(raw.loc[idx, 'HQ1'])\n",
    "    lv = int(area.loc[area['c_code'] == int(answer), 'HQ1'])\n",
    "    if not hq1 == lv :\n",
    "        print(list(raw.loc[idx, ['record', 'uuid']]))"
   ]
  },
  {
   "cell_type": "code",
   "execution_count": 23,
   "id": "2e67089d",
   "metadata": {},
   "outputs": [
    {
     "name": "stdout",
     "output_type": "stream",
     "text": [
      "## A0 MISSING CHECK\n",
      "# All base\n",
      "# No error\n",
      "----------\n",
      "\n",
      "\n"
     ]
    }
   ],
   "source": [
    "dc.safreq('A0')"
   ]
  },
  {
   "cell_type": "code",
   "execution_count": 25,
   "id": "6fea1668",
   "metadata": {},
   "outputs": [
    {
     "name": "stdout",
     "output_type": "stream",
     "text": [
      "## A0x1 MISSING CHECK\n",
      "# Condition\n",
      "# No error\n",
      "----------\n",
      "\n",
      "\n"
     ]
    }
   ],
   "source": [
    "dc.safreq('A0x1', raw.A0==2, ['A0'])"
   ]
  },
  {
   "cell_type": "code",
   "execution_count": 26,
   "id": "1631e336",
   "metadata": {},
   "outputs": [
    {
     "name": "stdout",
     "output_type": "stream",
     "text": [
      "## HQ2 MISSING CHECK\n",
      "# All base\n",
      "# No error\n",
      "----------\n",
      "\n",
      "\n"
     ]
    }
   ],
   "source": [
    "dc.safreq('HQ2')"
   ]
  },
  {
   "cell_type": "code",
   "execution_count": 27,
   "id": "4b699e07",
   "metadata": {},
   "outputs": [
    {
     "name": "stdout",
     "output_type": "stream",
     "text": [
      "## Puncing Logic Check\n",
      "# Puching Logic correct\n",
      "----------\n",
      "\n",
      "\n"
     ]
    }
   ],
   "source": [
    "dc.logchk((raw.A0==1) | (((raw.A0==2) & (raw.A0x1==1))), raw.HQ2==1, ['A0', 'A0x1', 'HQ2'])"
   ]
  },
  {
   "cell_type": "code",
   "execution_count": 28,
   "id": "306f546c",
   "metadata": {},
   "outputs": [
    {
     "name": "stdout",
     "output_type": "stream",
     "text": [
      "## Puncing Logic Check\n",
      "# Puching Logic correct\n",
      "----------\n",
      "\n",
      "\n"
     ]
    }
   ],
   "source": [
    "dc.logchk((raw.A0==2) & (raw.A0x1==2), raw.HQ2==2, ['A0', 'A0x1', 'HQ2'])"
   ]
  },
  {
   "cell_type": "code",
   "execution_count": 29,
   "id": "d71e86be",
   "metadata": {},
   "outputs": [
    {
     "name": "stdout",
     "output_type": "stream",
     "text": [
      "## A1 MISSING CHECK\n",
      "# All base\n",
      "# No error\n",
      "----------\n",
      "\n",
      "\n"
     ]
    }
   ],
   "source": [
    "dc.safreq('A1')"
   ]
  },
  {
   "cell_type": "code",
   "execution_count": 30,
   "id": "dc236b7d",
   "metadata": {},
   "outputs": [
    {
     "name": "stdout",
     "output_type": "stream",
     "text": [
      "## A2 MISSING CHECK\n",
      "# Condition\n",
      "# No error\n",
      "----------\n",
      "\n",
      "\n"
     ]
    }
   ],
   "source": [
    "dc.safreq('A2', raw.A1.isin([1, 2, 3]))"
   ]
  },
  {
   "cell_type": "code",
   "execution_count": 31,
   "id": "68d657a5",
   "metadata": {},
   "outputs": [
    {
     "name": "stdout",
     "output_type": "stream",
     "text": [
      "## A3 MISSING CHECK\n",
      "# Condition\n",
      "# No error\n",
      "----------\n",
      "\n",
      "\n"
     ]
    }
   ],
   "source": [
    "dc.safreq('A3', raw.A2.isin([1,2,3,4,5]))"
   ]
  },
  {
   "cell_type": "code",
   "execution_count": 32,
   "id": "81384a7f",
   "metadata": {},
   "outputs": [
    {
     "name": "stdout",
     "output_type": "stream",
     "text": [
      "## A4 MISSING CHECK\n",
      "# Condition\n",
      "# No error\n",
      "----------\n",
      "\n",
      "\n"
     ]
    }
   ],
   "source": [
    "dc.safreq('A4', raw.A3==1)"
   ]
  },
  {
   "cell_type": "code",
   "execution_count": 33,
   "id": "ae584e6a",
   "metadata": {},
   "outputs": [],
   "source": [
    "dog_eat = raw.A2.isin([1,2,3,4,5]) # 개고기를 1년내 취식"
   ]
  },
  {
   "cell_type": "code",
   "execution_count": 34,
   "id": "604dfa0c",
   "metadata": {},
   "outputs": [
    {
     "name": "stdout",
     "output_type": "stream",
     "text": [
      "## 'A5r1 - A5r98' Answer Check\n",
      "# Condition\n",
      "# The atleast error check (atleast = 1)\n",
      "----------\n",
      "\n",
      "\n"
     ]
    }
   ],
   "source": [
    "dc.mafreq(('A5r1', 'A5r98'), dog_eat)"
   ]
  },
  {
   "cell_type": "code",
   "execution_count": 35,
   "id": "376834af",
   "metadata": {},
   "outputs": [
    {
     "name": "stdout",
     "output_type": "stream",
     "text": [
      "## 'A5x1r1 - A5x1r98' Answer Check\n",
      "# Condition\n",
      "# The atleast error check (atleast = 1)\n",
      "▷ No response to this condition\n",
      "----------\n",
      "\n",
      "\n"
     ]
    }
   ],
   "source": [
    "dc.mafreq(('A5x1r1', 'A5x1r98'), raw.A5r3==3)"
   ]
  },
  {
   "cell_type": "code",
   "execution_count": 36,
   "id": "2fe786b5",
   "metadata": {},
   "outputs": [
    {
     "name": "stdout",
     "output_type": "stream",
     "text": [
      "## A5x2 MISSING CHECK\n",
      "# Condition\n",
      "# No error\n",
      "----------\n",
      "\n",
      "\n"
     ]
    }
   ],
   "source": [
    "dc.safreq('A5x2', dog_eat)"
   ]
  },
  {
   "cell_type": "code",
   "execution_count": 37,
   "id": "a7b9239f",
   "metadata": {},
   "outputs": [
    {
     "name": "stdout",
     "output_type": "stream",
     "text": [
      "## A6 MISSING CHECK\n",
      "# Condition\n",
      "# No error\n",
      "----------\n",
      "\n",
      "\n"
     ]
    }
   ],
   "source": [
    "dc.safreq('A6', dog_eat)"
   ]
  },
  {
   "cell_type": "code",
   "execution_count": 38,
   "id": "274b4b98",
   "metadata": {},
   "outputs": [
    {
     "name": "stdout",
     "output_type": "stream",
     "text": [
      "## A7 MISSING CHECK\n",
      "# Condition\n",
      "# No error\n",
      "----------\n",
      "\n",
      "\n"
     ]
    }
   ],
   "source": [
    "dc.safreq('A7', dog_eat)"
   ]
  },
  {
   "cell_type": "code",
   "execution_count": 39,
   "id": "c2f011d7",
   "metadata": {},
   "outputs": [
    {
     "name": "stdout",
     "output_type": "stream",
     "text": [
      "## A8 MISSING CHECK\n",
      "# Condition\n",
      "# No error\n",
      "----------\n",
      "\n",
      "\n"
     ]
    }
   ],
   "source": [
    "dc.safreq('A8', dog_eat)"
   ]
  },
  {
   "cell_type": "code",
   "execution_count": 40,
   "id": "8db0958d",
   "metadata": {},
   "outputs": [
    {
     "name": "stdout",
     "output_type": "stream",
     "text": [
      "## 'A9r1 - A9r98' Answer Check\n",
      "# Condition\n",
      "# The atleast error check (atleast = 1)\n",
      "----------\n",
      "\n",
      "\n"
     ]
    }
   ],
   "source": [
    "dc.mafreq(('A9r1', 'A9r98'), dog_eat)"
   ]
  },
  {
   "cell_type": "code",
   "execution_count": 41,
   "id": "4cf946a9",
   "metadata": {},
   "outputs": [
    {
     "name": "stdout",
     "output_type": "stream",
     "text": [
      "## A10 MISSING CHECK\n",
      "# All base\n",
      "# No error\n",
      "----------\n",
      "\n",
      "\n"
     ]
    }
   ],
   "source": [
    "dc.safreq('A10')"
   ]
  },
  {
   "cell_type": "code",
   "execution_count": 42,
   "id": "6b7a415c",
   "metadata": {},
   "outputs": [
    {
     "name": "stdout",
     "output_type": "stream",
     "text": [
      "## A11 MISSING CHECK\n",
      "# Condition\n",
      "# No error\n",
      "----------\n",
      "\n",
      "\n"
     ]
    }
   ],
   "source": [
    "dc.safreq('A11', raw.A10==1)"
   ]
  },
  {
   "cell_type": "code",
   "execution_count": 43,
   "id": "50b9777c",
   "metadata": {},
   "outputs": [
    {
     "name": "stdout",
     "output_type": "stream",
     "text": [
      "## 'A12r1 - A12r98' Answer Check\n",
      "# Condition\n",
      "# The atleast error check (atleast = 1)\n",
      "▷ No response to this condition\n",
      "----------\n",
      "\n",
      "\n"
     ]
    }
   ],
   "source": [
    "dc.mafreq(('A12r1', 'A12r98'), raw.A11.isin([1,2,3,4,5]))"
   ]
  },
  {
   "cell_type": "code",
   "execution_count": 44,
   "id": "c77056fe",
   "metadata": {},
   "outputs": [
    {
     "name": "stdout",
     "output_type": "stream",
     "text": [
      "## A13r1 MISSING CHECK\n",
      "# All base\n",
      "# No error\n",
      "----------\n",
      "\n",
      "\n",
      "## A13r2 MISSING CHECK\n",
      "# All base\n",
      "# No error\n",
      "----------\n",
      "\n",
      "\n",
      "## A13r3 MISSING CHECK\n",
      "# All base\n",
      "# No error\n",
      "----------\n",
      "\n",
      "\n",
      "## A13r4 MISSING CHECK\n",
      "# All base\n",
      "# No error\n",
      "----------\n",
      "\n",
      "\n",
      "## A13r5 MISSING CHECK\n",
      "# All base\n",
      "# No error\n",
      "----------\n",
      "\n",
      "\n",
      "## A13r6 MISSING CHECK\n",
      "# All base\n",
      "# No error\n",
      "----------\n",
      "\n",
      "\n",
      "## A13r7 MISSING CHECK\n",
      "# All base\n",
      "# No error\n",
      "----------\n",
      "\n",
      "\n",
      "## A13r8 MISSING CHECK\n",
      "# All base\n",
      "# No error\n",
      "----------\n",
      "\n",
      "\n",
      "## A13r9 MISSING CHECK\n",
      "# All base\n",
      "# No error\n",
      "----------\n",
      "\n",
      "\n"
     ]
    }
   ],
   "source": [
    "for i in range(1, 9+1) :\n",
    "    dc.safreq(f'A13r{i}')"
   ]
  },
  {
   "cell_type": "code",
   "execution_count": 45,
   "id": "258856cf",
   "metadata": {},
   "outputs": [
    {
     "name": "stdout",
     "output_type": "stream",
     "text": [
      "## A14 MISSING CHECK\n",
      "# All base\n",
      "# No error\n",
      "----------\n",
      "\n",
      "\n"
     ]
    }
   ],
   "source": [
    "dc.safreq('A14')"
   ]
  },
  {
   "cell_type": "code",
   "execution_count": 46,
   "id": "9650d055",
   "metadata": {},
   "outputs": [
    {
     "name": "stdout",
     "output_type": "stream",
     "text": [
      "## 'A14x1r1 - A14x1r98' Answer Check\n",
      "# Condition\n",
      "# The atleast error check (atleast = 1)\n",
      "----------\n",
      "\n",
      "\n"
     ]
    }
   ],
   "source": [
    "dc.mafreq(('A14x1r1', 'A14x1r98'), raw.A14==1)"
   ]
  },
  {
   "cell_type": "code",
   "execution_count": 47,
   "id": "fbeff374",
   "metadata": {},
   "outputs": [
    {
     "name": "stdout",
     "output_type": "stream",
     "text": [
      "## A15 MISSING CHECK\n",
      "# Condition\n",
      "# No error\n",
      "----------\n",
      "\n",
      "\n"
     ]
    }
   ],
   "source": [
    "dc.safreq('A15', raw.A14==1)"
   ]
  },
  {
   "cell_type": "code",
   "execution_count": 48,
   "id": "a290d1c1",
   "metadata": {},
   "outputs": [
    {
     "name": "stdout",
     "output_type": "stream",
     "text": [
      "## A16r1 MISSING CHECK\n",
      "# All base\n",
      "# No error\n",
      "----------\n",
      "\n",
      "\n",
      "## A16r2 MISSING CHECK\n",
      "# All base\n",
      "# No error\n",
      "----------\n",
      "\n",
      "\n",
      "## A16r3 MISSING CHECK\n",
      "# All base\n",
      "# No error\n",
      "----------\n",
      "\n",
      "\n",
      "## A16r4 MISSING CHECK\n",
      "# All base\n",
      "# No error\n",
      "----------\n",
      "\n",
      "\n"
     ]
    }
   ],
   "source": [
    "for i in range(1, 4+1) :\n",
    "    dc.safreq(f'A16r{i}')"
   ]
  },
  {
   "cell_type": "code",
   "execution_count": 49,
   "id": "c3ceb183",
   "metadata": {},
   "outputs": [
    {
     "name": "stdout",
     "output_type": "stream",
     "text": [
      "## A17 MISSING CHECK\n",
      "# All base\n",
      "# No error\n",
      "----------\n",
      "\n",
      "\n"
     ]
    }
   ],
   "source": [
    "dc.safreq('A17')"
   ]
  },
  {
   "cell_type": "code",
   "execution_count": 50,
   "id": "5811ebe4",
   "metadata": {},
   "outputs": [
    {
     "name": "stdout",
     "output_type": "stream",
     "text": [
      "## A17x1 MISSING CHECK\n",
      "# All base\n",
      "# No error\n",
      "----------\n",
      "\n",
      "\n"
     ]
    }
   ],
   "source": [
    "dc.safreq('A17x1')"
   ]
  },
  {
   "cell_type": "code",
   "execution_count": 51,
   "id": "911b342c",
   "metadata": {},
   "outputs": [
    {
     "name": "stdout",
     "output_type": "stream",
     "text": [
      "## A18 MISSING CHECK\n",
      "# All base\n",
      "# No error\n",
      "----------\n",
      "\n",
      "\n"
     ]
    }
   ],
   "source": [
    "dc.safreq('A18')"
   ]
  },
  {
   "cell_type": "code",
   "execution_count": 53,
   "id": "6bf206d6",
   "metadata": {},
   "outputs": [
    {
     "name": "stdout",
     "output_type": "stream",
     "text": [
      "## 'A18x1r1 - A18x1r98' Answer Check\n",
      "# Condition\n",
      "# The atleast error check (atleast = 1)\n",
      "----------\n",
      "\n",
      "\n"
     ]
    }
   ],
   "source": [
    "dc.mafreq(('A18x1r1', 'A18x1r98'), raw.A18==1)"
   ]
  },
  {
   "cell_type": "code",
   "execution_count": 54,
   "id": "1fe6786d",
   "metadata": {},
   "outputs": [
    {
     "name": "stdout",
     "output_type": "stream",
     "text": [
      "## 'A18x2r1 - A18x2r98' Answer Check\n",
      "# Condition\n",
      "# The atleast error check (atleast = 1)\n",
      "----------\n",
      "\n",
      "\n"
     ]
    }
   ],
   "source": [
    "dc.mafreq(('A18x2r1', 'A18x2r98'), raw.A18==2)"
   ]
  },
  {
   "cell_type": "code",
   "execution_count": 55,
   "id": "cd5fee1c",
   "metadata": {},
   "outputs": [
    {
     "name": "stdout",
     "output_type": "stream",
     "text": [
      "## 'A19r1 - A19r99' Answer Check\n",
      "# All base\n",
      "# The atleast error check (atleast = 1)\n",
      "----------\n",
      "\n",
      "\n"
     ]
    }
   ],
   "source": [
    "dc.mafreq(('A19r1', 'A19r99'))"
   ]
  },
  {
   "cell_type": "code",
   "execution_count": 57,
   "id": "c61a465f",
   "metadata": {},
   "outputs": [
    {
     "data": {
      "text/html": [
       "<div>\n",
       "<style scoped>\n",
       "    .dataframe tbody tr th:only-of-type {\n",
       "        vertical-align: middle;\n",
       "    }\n",
       "\n",
       "    .dataframe tbody tr th {\n",
       "        vertical-align: top;\n",
       "    }\n",
       "\n",
       "    .dataframe thead th {\n",
       "        text-align: right;\n",
       "    }\n",
       "</style>\n",
       "<table border=\"1\" class=\"dataframe\">\n",
       "  <thead>\n",
       "    <tr style=\"text-align: right;\">\n",
       "      <th></th>\n",
       "      <th>record</th>\n",
       "      <th>count</th>\n",
       "      <th>err</th>\n",
       "      <th>A20r1</th>\n",
       "      <th>A20r2</th>\n",
       "      <th>A20r3</th>\n",
       "      <th>A20r4</th>\n",
       "      <th>A20r98</th>\n",
       "      <th>HQ2</th>\n",
       "      <th>A1</th>\n",
       "    </tr>\n",
       "  </thead>\n",
       "  <tbody>\n",
       "    <tr>\n",
       "      <th>5</th>\n",
       "      <td>16</td>\n",
       "      <td>1.0</td>\n",
       "      <td></td>\n",
       "      <td>0.0</td>\n",
       "      <td>0.0</td>\n",
       "      <td>0.0</td>\n",
       "      <td>4.0</td>\n",
       "      <td>0.0</td>\n",
       "      <td>1</td>\n",
       "      <td>1</td>\n",
       "    </tr>\n",
       "    <tr>\n",
       "      <th>12</th>\n",
       "      <td>27</td>\n",
       "      <td>1.0</td>\n",
       "      <td></td>\n",
       "      <td>1.0</td>\n",
       "      <td>0.0</td>\n",
       "      <td>0.0</td>\n",
       "      <td>0.0</td>\n",
       "      <td>0.0</td>\n",
       "      <td>1</td>\n",
       "      <td>1</td>\n",
       "    </tr>\n",
       "  </tbody>\n",
       "</table>\n",
       "</div>"
      ],
      "text/plain": [
       "    record  count err  A20r1  A20r2  A20r3  A20r4  A20r98  HQ2  A1\n",
       "5       16    1.0        0.0    0.0    0.0    4.0     0.0    1   1\n",
       "12      27    1.0        1.0    0.0    0.0    0.0     0.0    1   1"
      ]
     },
     "execution_count": 57,
     "metadata": {},
     "output_type": "execute_result"
    }
   ],
   "source": [
    "dc.mafreq(('A20r1', 'A20r98'), (raw.HQ2==1) & (raw.A1==1), ['HQ2', 'A1'], df=True)"
   ]
  },
  {
   "cell_type": "code",
   "execution_count": 58,
   "id": "7a7ec518",
   "metadata": {},
   "outputs": [
    {
     "name": "stdout",
     "output_type": "stream",
     "text": [
      "## A21 MISSING CHECK\n",
      "# All base\n",
      "# No error\n",
      "----------\n",
      "\n",
      "\n"
     ]
    }
   ],
   "source": [
    "dc.safreq('A21')"
   ]
  },
  {
   "cell_type": "code",
   "execution_count": 59,
   "id": "5d773561",
   "metadata": {},
   "outputs": [
    {
     "name": "stdout",
     "output_type": "stream",
     "text": [
      "## A22 MISSING CHECK\n",
      "# All base\n",
      "# No error\n",
      "----------\n",
      "\n",
      "\n"
     ]
    }
   ],
   "source": [
    "dc.safreq('A22')"
   ]
  },
  {
   "cell_type": "code",
   "execution_count": 60,
   "id": "f1f8619d",
   "metadata": {},
   "outputs": [
    {
     "name": "stdout",
     "output_type": "stream",
     "text": [
      "## A23 MISSING CHECK\n",
      "# All base\n",
      "# No error\n",
      "----------\n",
      "\n",
      "\n"
     ]
    }
   ],
   "source": [
    "dc.safreq('A23')"
   ]
  },
  {
   "cell_type": "code",
   "execution_count": 61,
   "id": "ff86de11",
   "metadata": {},
   "outputs": [
    {
     "name": "stdout",
     "output_type": "stream",
     "text": [
      "## A24 MISSING CHECK\n",
      "# All base\n",
      "# No error\n",
      "----------\n",
      "\n",
      "\n"
     ]
    }
   ],
   "source": [
    "dc.safreq('A24')"
   ]
  },
  {
   "cell_type": "code",
   "execution_count": 62,
   "id": "ba701f4e",
   "metadata": {},
   "outputs": [
    {
     "name": "stdout",
     "output_type": "stream",
     "text": [
      "## A25 MISSING CHECK\n",
      "# All base\n",
      "# No error\n",
      "----------\n",
      "\n",
      "\n"
     ]
    }
   ],
   "source": [
    "dc.safreq('A25')"
   ]
  },
  {
   "cell_type": "code",
   "execution_count": 63,
   "id": "c4e6cd39",
   "metadata": {},
   "outputs": [
    {
     "name": "stdout",
     "output_type": "stream",
     "text": [
      "## B1 MISSING CHECK\n",
      "# All base\n",
      "# No error\n",
      "----------\n",
      "\n",
      "\n"
     ]
    }
   ],
   "source": [
    "dc.safreq('B1')"
   ]
  },
  {
   "cell_type": "code",
   "execution_count": 65,
   "id": "fa640bf8",
   "metadata": {},
   "outputs": [
    {
     "name": "stdout",
     "output_type": "stream",
     "text": [
      "## B2r1 MISSING CHECK\n",
      "# Condition\n",
      "# No error\n",
      "----------\n",
      "\n",
      "\n",
      "## B2r2 MISSING CHECK\n",
      "# Condition\n",
      "# No error\n",
      "----------\n",
      "\n",
      "\n"
     ]
    }
   ],
   "source": [
    "dc.safreq('B2r1', raw.B1.isin([2,5]), ['B1'])\n",
    "dc.safreq('B2r2', raw.B1.isin([2,5]), ['B1'])"
   ]
  },
  {
   "cell_type": "code",
   "execution_count": 66,
   "id": "ab520d55",
   "metadata": {},
   "outputs": [
    {
     "name": "stdout",
     "output_type": "stream",
     "text": [
      "## B4 MISSING CHECK\n",
      "# Condition\n",
      "# No error\n",
      "----------\n",
      "\n",
      "\n"
     ]
    }
   ],
   "source": [
    "dc.safreq('B4', raw.A1.isin([1, 2, 3]), ['A1'])"
   ]
  },
  {
   "cell_type": "code",
   "execution_count": 67,
   "id": "66acf867",
   "metadata": {},
   "outputs": [
    {
     "name": "stdout",
     "output_type": "stream",
     "text": [
      "## 'B5r1 - B5r98' Answer Check\n",
      "# Condition\n",
      "# The atleast error check (atleast = 1)\n",
      "▷ No response to this condition\n",
      "----------\n",
      "\n",
      "\n"
     ]
    }
   ],
   "source": [
    "dc.mafreq(('B5r1', 'B5r98'), raw.B4==1, ['B4'])"
   ]
  },
  {
   "cell_type": "code",
   "execution_count": 68,
   "id": "a2e232fe",
   "metadata": {},
   "outputs": [
    {
     "name": "stdout",
     "output_type": "stream",
     "text": [
      "2.0    6\n",
      "3.0    5\n",
      "4.0    1\n",
      "5.0    1\n",
      "Name: B4, dtype: int64\n"
     ]
    }
   ],
   "source": [
    "dc.freq('B4')"
   ]
  },
  {
   "cell_type": "code",
   "execution_count": 69,
   "id": "d3b58e9e",
   "metadata": {},
   "outputs": [
    {
     "name": "stdout",
     "output_type": "stream",
     "text": [
      "## C1 MISSING CHECK\n",
      "# All base\n",
      "# No error\n",
      "----------\n",
      "\n",
      "\n"
     ]
    }
   ],
   "source": [
    "dc.safreq('C1')"
   ]
  },
  {
   "cell_type": "code",
   "execution_count": 70,
   "id": "2b31e0e5",
   "metadata": {},
   "outputs": [
    {
     "name": "stdout",
     "output_type": "stream",
     "text": [
      "## 'C1x1r1 - C1x1r98' Answer Check\n",
      "# Condition\n",
      "# The atleast error check (atleast = 1)\n",
      "----------\n",
      "\n",
      "\n"
     ]
    }
   ],
   "source": [
    "dc.mafreq(('C1x1r1', 'C1x1r98'), raw.C1==1, ['C1'])"
   ]
  },
  {
   "cell_type": "code",
   "execution_count": 71,
   "id": "d6e7f41c",
   "metadata": {},
   "outputs": [
    {
     "name": "stdout",
     "output_type": "stream",
     "text": [
      "## 'C1x2r1 - C1x2r98' Answer Check\n",
      "# Condition\n",
      "# The atleast error check (atleast = 1)\n",
      "----------\n",
      "\n",
      "\n"
     ]
    }
   ],
   "source": [
    "dc.mafreq(('C1x2r1', 'C1x2r98'), raw.C1==1)"
   ]
  },
  {
   "cell_type": "code",
   "execution_count": 72,
   "id": "4bc113d4",
   "metadata": {},
   "outputs": [
    {
     "name": "stdout",
     "output_type": "stream",
     "text": [
      "## C1x3 MISSING CHECK\n",
      "# All base\n",
      "# No error\n",
      "----------\n",
      "\n",
      "\n"
     ]
    }
   ],
   "source": [
    "dc.safreq('C1x3')"
   ]
  },
  {
   "cell_type": "code",
   "execution_count": 73,
   "id": "e894c855",
   "metadata": {},
   "outputs": [
    {
     "name": "stdout",
     "output_type": "stream",
     "text": [
      "## C2 MISSING CHECK\n",
      "# All base\n",
      "# No error\n",
      "----------\n",
      "\n",
      "\n"
     ]
    }
   ],
   "source": [
    "dc.safreq('C2')"
   ]
  },
  {
   "cell_type": "code",
   "execution_count": 79,
   "id": "8a6dff14",
   "metadata": {},
   "outputs": [
    {
     "name": "stdout",
     "output_type": "stream",
     "text": [
      "## C2x1r1 MISSING CHECK\n",
      "# Condition\n",
      "▷ No response to this condition\n",
      "# No error\n",
      "----------\n",
      "\n",
      "\n"
     ]
    }
   ],
   "source": [
    "dc.safreq('C2x1r1', (raw.C2==1) & (raw.noanswerC2x1_r99==0))"
   ]
  },
  {
   "cell_type": "code",
   "execution_count": 80,
   "id": "3fce417a",
   "metadata": {},
   "outputs": [
    {
     "name": "stdout",
     "output_type": "stream",
     "text": [
      "## C2x1r2 MISSING CHECK\n",
      "# Condition\n",
      "▷ No response to this condition\n",
      "# No error\n",
      "----------\n",
      "\n",
      "\n"
     ]
    }
   ],
   "source": [
    "dc.safreq('C2x1r2', (raw.C2==1) & (raw.noanswerC2x1_r99==0))"
   ]
  },
  {
   "cell_type": "code",
   "execution_count": 81,
   "id": "5a0ad9f2",
   "metadata": {},
   "outputs": [
    {
     "name": "stdout",
     "output_type": "stream",
     "text": [
      "## C3 MISSING CHECK\n",
      "# All base\n",
      "# No error\n",
      "----------\n",
      "\n",
      "\n"
     ]
    }
   ],
   "source": [
    "dc.safreq('C3')"
   ]
  },
  {
   "cell_type": "code",
   "execution_count": 83,
   "id": "3dc52832",
   "metadata": {},
   "outputs": [
    {
     "name": "stdout",
     "output_type": "stream",
     "text": [
      "## C3x1r1 MISSING CHECK\n",
      "# Condition\n",
      "▷ No response to this condition\n",
      "# No error\n",
      "----------\n",
      "\n",
      "\n"
     ]
    }
   ],
   "source": [
    "dc.safreq('C3x1r1', (raw.C3==1) & (raw.noanswerC3x1_r99!=1), ['noanswerC3x1_r99'])"
   ]
  },
  {
   "cell_type": "code",
   "execution_count": 84,
   "id": "39b74563",
   "metadata": {},
   "outputs": [
    {
     "name": "stdout",
     "output_type": "stream",
     "text": [
      "## C3x1r2 MISSING CHECK\n",
      "# Condition\n",
      "▷ No response to this condition\n",
      "# No error\n",
      "----------\n",
      "\n",
      "\n"
     ]
    }
   ],
   "source": [
    "dc.safreq('C3x1r2', (raw.C3==1) & (raw.noanswerC3x1_r99!=1), ['noanswerC3x1_r99'])"
   ]
  },
  {
   "cell_type": "code",
   "execution_count": 85,
   "id": "4f389358",
   "metadata": {},
   "outputs": [
    {
     "name": "stdout",
     "output_type": "stream",
     "text": [
      "## C4 MISSING CHECK\n",
      "# All base\n",
      "# No error\n",
      "----------\n",
      "\n",
      "\n"
     ]
    }
   ],
   "source": [
    "dc.safreq('C4')"
   ]
  },
  {
   "cell_type": "code",
   "execution_count": 86,
   "id": "ec95fc6c",
   "metadata": {},
   "outputs": [
    {
     "name": "stdout",
     "output_type": "stream",
     "text": [
      "## D1 MISSING CHECK\n",
      "# All base\n",
      "# No error\n",
      "----------\n",
      "\n",
      "\n"
     ]
    }
   ],
   "source": [
    "dc.safreq('D1')"
   ]
  },
  {
   "cell_type": "code",
   "execution_count": 87,
   "id": "eff8edc5",
   "metadata": {},
   "outputs": [
    {
     "name": "stdout",
     "output_type": "stream",
     "text": [
      "## D2 MISSING CHECK\n",
      "# All base\n",
      "# No error\n",
      "----------\n",
      "\n",
      "\n"
     ]
    }
   ],
   "source": [
    "dc.safreq('D2')"
   ]
  },
  {
   "cell_type": "code",
   "execution_count": 88,
   "id": "79f77e33",
   "metadata": {},
   "outputs": [
    {
     "name": "stdout",
     "output_type": "stream",
     "text": [
      "## D3 MISSING CHECK\n",
      "# All base\n",
      "# No error\n",
      "----------\n",
      "\n",
      "\n"
     ]
    }
   ],
   "source": [
    "dc.safreq('D3')"
   ]
  },
  {
   "cell_type": "code",
   "execution_count": 89,
   "id": "0f9b16dc",
   "metadata": {},
   "outputs": [
    {
     "name": "stdout",
     "output_type": "stream",
     "text": [
      "## D4 MISSING CHECK\n",
      "# All base\n",
      "# No error\n",
      "----------\n",
      "\n",
      "\n"
     ]
    }
   ],
   "source": [
    "dc.safreq('D4')"
   ]
  },
  {
   "cell_type": "code",
   "execution_count": 90,
   "id": "6ba5a500",
   "metadata": {},
   "outputs": [
    {
     "name": "stdout",
     "output_type": "stream",
     "text": [
      "## D5 MISSING CHECK\n",
      "# All base\n",
      "# No error\n",
      "----------\n",
      "\n",
      "\n"
     ]
    }
   ],
   "source": [
    "dc.safreq('D5')"
   ]
  },
  {
   "cell_type": "code",
   "execution_count": 91,
   "id": "101797f5",
   "metadata": {},
   "outputs": [
    {
     "name": "stdout",
     "output_type": "stream",
     "text": [
      "## D6 MISSING CHECK\n",
      "# All base\n",
      "# No error\n",
      "----------\n",
      "\n",
      "## D6 ANSWER DATA CHECK\n",
      "# Answer only in List [1, 2, 3, 98]\n",
      "# Only value check : No error\n",
      "----------\n",
      "\n",
      "\n",
      "2     16\n",
      "1      9\n",
      "98     4\n",
      "Name: D6, dtype: int64\n"
     ]
    }
   ],
   "source": [
    "dc.safreq('D6', only=[1,2,3,98])\n",
    "dc.freq('D6')"
   ]
  },
  {
   "cell_type": "code",
   "execution_count": 92,
   "id": "65b96aa3",
   "metadata": {},
   "outputs": [
    {
     "name": "stdout",
     "output_type": "stream",
     "text": [
      "## D7 MISSING CHECK\n",
      "# All base\n",
      "# No error\n",
      "----------\n",
      "\n",
      "\n"
     ]
    }
   ],
   "source": [
    "dc.safreq('D7')"
   ]
  }
 ],
 "metadata": {
  "kernelspec": {
   "display_name": "Python 3 (ipykernel)",
   "language": "python",
   "name": "python3"
  },
  "language_info": {
   "codemirror_mode": {
    "name": "ipython",
    "version": 3
   },
   "file_extension": ".py",
   "mimetype": "text/x-python",
   "name": "python",
   "nbconvert_exporter": "python",
   "pygments_lexer": "ipython3",
   "version": "3.9.7"
  }
 },
 "nbformat": 4,
 "nbformat_minor": 5
}
